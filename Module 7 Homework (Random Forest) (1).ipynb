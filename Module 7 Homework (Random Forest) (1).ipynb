{
 "cells": [
  {
   "cell_type": "code",
   "execution_count": 1,
   "id": "2e6d56bf",
   "metadata": {},
   "outputs": [],
   "source": [
    "import numpy as np\n",
    "import pandas as pd\n",
    "import seaborn as sns\n",
    "from matplotlib import pyplot as plt\n",
    "\n",
    "from sklearn.model_selection import train_test_split\n",
    "from sklearn.model_selection import cross_val_score\n",
    "from sklearn.model_selection import GridSearchCV\n",
    "from sklearn.metrics import confusion_matrix, ConfusionMatrixDisplay, classification_report, accuracy_score\n",
    "\n",
    "from sklearn.ensemble import RandomForestClassifier\n",
    "sns.set()\n",
    "\n",
    "import imblearn\n",
    "from imblearn.over_sampling import SMOTE\n",
    "from collections import Counter\n",
    "from numpy import where\n",
    "\n",
    "from sklearn.metrics import precision_recall_curve\n",
    "from sklearn.metrics import plot_precision_recall_curve\n",
    "from sklearn.metrics import roc_curve\n",
    "from sklearn.metrics import plot_roc_curve"
   ]
  },
  {
   "cell_type": "code",
   "execution_count": 2,
   "id": "c078f56a",
   "metadata": {},
   "outputs": [
    {
     "data": {
      "text/html": [
       "<div>\n",
       "<style scoped>\n",
       "    .dataframe tbody tr th:only-of-type {\n",
       "        vertical-align: middle;\n",
       "    }\n",
       "\n",
       "    .dataframe tbody tr th {\n",
       "        vertical-align: top;\n",
       "    }\n",
       "\n",
       "    .dataframe thead th {\n",
       "        text-align: right;\n",
       "    }\n",
       "</style>\n",
       "<table border=\"1\" class=\"dataframe\">\n",
       "  <thead>\n",
       "    <tr style=\"text-align: right;\">\n",
       "      <th></th>\n",
       "      <th>LIMIT_BAL</th>\n",
       "      <th>SEX</th>\n",
       "      <th>EDUCATION</th>\n",
       "      <th>MARRIAGE</th>\n",
       "      <th>AGE</th>\n",
       "      <th>PAY_0</th>\n",
       "      <th>PAY_2</th>\n",
       "      <th>PAY_3</th>\n",
       "      <th>PAY_4</th>\n",
       "      <th>PAY_5</th>\n",
       "      <th>...</th>\n",
       "      <th>BILL_AMT4</th>\n",
       "      <th>BILL_AMT5</th>\n",
       "      <th>BILL_AMT6</th>\n",
       "      <th>PAY_AMT1</th>\n",
       "      <th>PAY_AMT2</th>\n",
       "      <th>PAY_AMT3</th>\n",
       "      <th>PAY_AMT4</th>\n",
       "      <th>PAY_AMT5</th>\n",
       "      <th>PAY_AMT6</th>\n",
       "      <th>DEFAULT</th>\n",
       "    </tr>\n",
       "  </thead>\n",
       "  <tbody>\n",
       "    <tr>\n",
       "      <th>0</th>\n",
       "      <td>20000</td>\n",
       "      <td>2</td>\n",
       "      <td>2</td>\n",
       "      <td>1</td>\n",
       "      <td>24</td>\n",
       "      <td>2</td>\n",
       "      <td>2</td>\n",
       "      <td>-1</td>\n",
       "      <td>-1</td>\n",
       "      <td>-2</td>\n",
       "      <td>...</td>\n",
       "      <td>0</td>\n",
       "      <td>0</td>\n",
       "      <td>0</td>\n",
       "      <td>0</td>\n",
       "      <td>689</td>\n",
       "      <td>0</td>\n",
       "      <td>0</td>\n",
       "      <td>0</td>\n",
       "      <td>0</td>\n",
       "      <td>1</td>\n",
       "    </tr>\n",
       "    <tr>\n",
       "      <th>1</th>\n",
       "      <td>120000</td>\n",
       "      <td>2</td>\n",
       "      <td>2</td>\n",
       "      <td>2</td>\n",
       "      <td>26</td>\n",
       "      <td>-1</td>\n",
       "      <td>2</td>\n",
       "      <td>0</td>\n",
       "      <td>0</td>\n",
       "      <td>0</td>\n",
       "      <td>...</td>\n",
       "      <td>3272</td>\n",
       "      <td>3455</td>\n",
       "      <td>3261</td>\n",
       "      <td>0</td>\n",
       "      <td>1000</td>\n",
       "      <td>1000</td>\n",
       "      <td>1000</td>\n",
       "      <td>0</td>\n",
       "      <td>2000</td>\n",
       "      <td>1</td>\n",
       "    </tr>\n",
       "    <tr>\n",
       "      <th>2</th>\n",
       "      <td>90000</td>\n",
       "      <td>2</td>\n",
       "      <td>2</td>\n",
       "      <td>2</td>\n",
       "      <td>34</td>\n",
       "      <td>0</td>\n",
       "      <td>0</td>\n",
       "      <td>0</td>\n",
       "      <td>0</td>\n",
       "      <td>0</td>\n",
       "      <td>...</td>\n",
       "      <td>14331</td>\n",
       "      <td>14948</td>\n",
       "      <td>15549</td>\n",
       "      <td>1518</td>\n",
       "      <td>1500</td>\n",
       "      <td>1000</td>\n",
       "      <td>1000</td>\n",
       "      <td>1000</td>\n",
       "      <td>5000</td>\n",
       "      <td>0</td>\n",
       "    </tr>\n",
       "    <tr>\n",
       "      <th>3</th>\n",
       "      <td>50000</td>\n",
       "      <td>2</td>\n",
       "      <td>2</td>\n",
       "      <td>1</td>\n",
       "      <td>37</td>\n",
       "      <td>0</td>\n",
       "      <td>0</td>\n",
       "      <td>0</td>\n",
       "      <td>0</td>\n",
       "      <td>0</td>\n",
       "      <td>...</td>\n",
       "      <td>28314</td>\n",
       "      <td>28959</td>\n",
       "      <td>29547</td>\n",
       "      <td>2000</td>\n",
       "      <td>2019</td>\n",
       "      <td>1200</td>\n",
       "      <td>1100</td>\n",
       "      <td>1069</td>\n",
       "      <td>1000</td>\n",
       "      <td>0</td>\n",
       "    </tr>\n",
       "    <tr>\n",
       "      <th>4</th>\n",
       "      <td>50000</td>\n",
       "      <td>1</td>\n",
       "      <td>2</td>\n",
       "      <td>1</td>\n",
       "      <td>57</td>\n",
       "      <td>-1</td>\n",
       "      <td>0</td>\n",
       "      <td>-1</td>\n",
       "      <td>0</td>\n",
       "      <td>0</td>\n",
       "      <td>...</td>\n",
       "      <td>20940</td>\n",
       "      <td>19146</td>\n",
       "      <td>19131</td>\n",
       "      <td>2000</td>\n",
       "      <td>36681</td>\n",
       "      <td>10000</td>\n",
       "      <td>9000</td>\n",
       "      <td>689</td>\n",
       "      <td>679</td>\n",
       "      <td>0</td>\n",
       "    </tr>\n",
       "  </tbody>\n",
       "</table>\n",
       "<p>5 rows × 24 columns</p>\n",
       "</div>"
      ],
      "text/plain": [
       "   LIMIT_BAL  SEX  EDUCATION  MARRIAGE  AGE  PAY_0  PAY_2  PAY_3  PAY_4  \\\n",
       "0      20000    2          2         1   24      2      2     -1     -1   \n",
       "1     120000    2          2         2   26     -1      2      0      0   \n",
       "2      90000    2          2         2   34      0      0      0      0   \n",
       "3      50000    2          2         1   37      0      0      0      0   \n",
       "4      50000    1          2         1   57     -1      0     -1      0   \n",
       "\n",
       "   PAY_5  ...  BILL_AMT4  BILL_AMT5  BILL_AMT6  PAY_AMT1  PAY_AMT2  PAY_AMT3  \\\n",
       "0     -2  ...          0          0          0         0       689         0   \n",
       "1      0  ...       3272       3455       3261         0      1000      1000   \n",
       "2      0  ...      14331      14948      15549      1518      1500      1000   \n",
       "3      0  ...      28314      28959      29547      2000      2019      1200   \n",
       "4      0  ...      20940      19146      19131      2000     36681     10000   \n",
       "\n",
       "   PAY_AMT4  PAY_AMT5  PAY_AMT6  DEFAULT  \n",
       "0         0         0         0        1  \n",
       "1      1000         0      2000        1  \n",
       "2      1000      1000      5000        0  \n",
       "3      1100      1069      1000        0  \n",
       "4      9000       689       679        0  \n",
       "\n",
       "[5 rows x 24 columns]"
      ]
     },
     "execution_count": 2,
     "metadata": {},
     "output_type": "execute_result"
    }
   ],
   "source": [
    "ccdefault = pd.read_csv('ccdefault.csv', sep = ',')\n",
    "df = ccdefault.drop(['ID'], axis = 1)\n",
    "df.head()"
   ]
  },
  {
   "cell_type": "code",
   "execution_count": 3,
   "id": "96146472",
   "metadata": {},
   "outputs": [
    {
     "data": {
      "text/plain": [
       "((30000, 23), (30000,))"
      ]
     },
     "execution_count": 3,
     "metadata": {},
     "output_type": "execute_result"
    }
   ],
   "source": [
    "# Identify X and y\n",
    "X = df.drop(['DEFAULT'], axis = 1)\n",
    "y = df['DEFAULT']\n",
    "X.shape, y.shape"
   ]
  },
  {
   "cell_type": "code",
   "execution_count": 4,
   "id": "4c834989",
   "metadata": {},
   "outputs": [],
   "source": [
    "# Train_test_split\n",
    "X_train, X_test, y_train, y_test = train_test_split(X, y, test_size = 0.1, stratify = y, random_state = 43)"
   ]
  },
  {
   "cell_type": "code",
   "execution_count": 5,
   "id": "d76ba055",
   "metadata": {},
   "outputs": [],
   "source": [
    "# Using a for loop to test multiple values of n_estimators for RandomForestClassifier.\n",
    "# try n_estimators from 1 to 100 and record test accuracy score\n",
    "\n",
    "train_score = []\n",
    "test_score = []\n",
    "\n",
    "for i in range(1,100):\n",
    "    rfc = RandomForestClassifier(n_estimators=i, criterion='gini', max_depth=10, max_features = 'auto', \n",
    "                                min_samples_split = 5, random_state = 43)\n",
    "    rfc.fit(X_train, y_train)\n",
    "    y_pred = rfc.predict(X_test)\n",
    "    train_score.append(accuracy_score(y_train, rfc.predict(X_train)))  \n",
    "    test_score.append(accuracy_score(y_test, y_pred))"
   ]
  },
  {
   "cell_type": "code",
   "execution_count": 6,
   "id": "610f154d",
   "metadata": {},
   "outputs": [
    {
     "name": "stdout",
     "output_type": "stream",
     "text": [
      "The accuracy score for the train set is  [0.828 0.838 0.843 0.845 0.846 0.848 0.849 0.849 0.848 0.849 0.849 0.851\n",
      " 0.85  0.851 0.851 0.852 0.852 0.852 0.852 0.853 0.853 0.853 0.853 0.852\n",
      " 0.852 0.853 0.853 0.852 0.853 0.852 0.852 0.852 0.852 0.852 0.852 0.852\n",
      " 0.852 0.851 0.851 0.852 0.851 0.85  0.85  0.85  0.851 0.851 0.851 0.851\n",
      " 0.851 0.851 0.851 0.851 0.851 0.851 0.851 0.851 0.851 0.851 0.851 0.851\n",
      " 0.851 0.851 0.851 0.852 0.852 0.852 0.852 0.852 0.852 0.852 0.852 0.852\n",
      " 0.852 0.852 0.852 0.852 0.852 0.852 0.852 0.852 0.852 0.852 0.852 0.853\n",
      " 0.852 0.852 0.852 0.852 0.852 0.852 0.852 0.852 0.852 0.852 0.852 0.852\n",
      " 0.852 0.852 0.852]\n",
      "-----------------------------------------\n",
      "The accuracy score for the test set is  [0.802 0.8   0.81  0.812 0.814 0.812 0.812 0.811 0.809 0.811 0.811 0.811\n",
      " 0.812 0.811 0.813 0.81  0.813 0.815 0.815 0.815 0.816 0.817 0.817 0.816\n",
      " 0.817 0.816 0.814 0.816 0.816 0.816 0.817 0.816 0.816 0.816 0.816 0.817\n",
      " 0.816 0.817 0.817 0.818 0.819 0.818 0.817 0.818 0.818 0.818 0.818 0.818\n",
      " 0.818 0.818 0.817 0.817 0.818 0.818 0.818 0.818 0.818 0.818 0.818 0.818\n",
      " 0.818 0.818 0.818 0.817 0.818 0.817 0.817 0.817 0.817 0.817 0.817 0.816\n",
      " 0.816 0.816 0.816 0.816 0.816 0.815 0.816 0.815 0.816 0.816 0.817 0.817\n",
      " 0.816 0.817 0.817 0.816 0.817 0.818 0.817 0.817 0.817 0.819 0.818 0.818\n",
      " 0.818 0.819 0.818]\n"
     ]
    }
   ],
   "source": [
    "print('The accuracy score for the train set is ', np.round(train_score, 3))\n",
    "print(\"-----------------------------------------\")\n",
    "print('The accuracy score for the test set is ', np.round(test_score, 3))"
   ]
  },
  {
   "cell_type": "code",
   "execution_count": 7,
   "id": "81e1c8db",
   "metadata": {},
   "outputs": [
    {
     "name": "stdout",
     "output_type": "stream",
     "text": [
      "The mean of accuracy score for the train set is  0.851\n",
      "The standard deviation of accuracy score for the train set is  0.003\n",
      "-----------------------------------------\n",
      "The mean of accuracy score for the test set is  0.816\n",
      "The standard deviation of accuracy score for the test set is  0.003\n"
     ]
    }
   ],
   "source": [
    "print('The mean of accuracy score for the train set is ', np.round(np.mean(train_score), 3))\n",
    "print('The standard deviation of accuracy score for the train set is ', np.round(np.std(train_score), 3))\n",
    "print(\"-----------------------------------------\")\n",
    "print('The mean of accuracy score for the test set is ', np.round(np.mean(test_score), 3))\n",
    "print('The standard deviation of accuracy score for the test set is ', np.round(np.std(test_score), 3))"
   ]
  },
  {
   "cell_type": "code",
   "execution_count": 8,
   "id": "d8eb7e01",
   "metadata": {},
   "outputs": [
    {
     "name": "stdout",
     "output_type": "stream",
     "text": [
      "Wall time: 3.69 s\n"
     ]
    },
    {
     "data": {
      "text/plain": [
       "RandomForestClassifier(max_depth=10, min_samples_split=5, n_estimators=99,\n",
       "                       random_state=43)"
      ]
     },
     "execution_count": 8,
     "metadata": {},
     "output_type": "execute_result"
    }
   ],
   "source": [
    "# Compute time\n",
    "%time rfc.fit(X_train, y_train)"
   ]
  },
  {
   "cell_type": "code",
   "execution_count": 9,
   "id": "da15bff6",
   "metadata": {},
   "outputs": [
    {
     "name": "stdout",
     "output_type": "stream",
     "text": [
      " 1 PAY_2                          0.265583\n",
      " 2 PAY_3                          0.116084\n",
      " 3 PAY_5                          0.063156\n",
      " 4 PAY_4                          0.060245\n",
      " 5 PAY_AMT2                       0.040620\n",
      " 6 BILL_AMT1                      0.038429\n",
      " 7 SEX                            0.037351\n",
      " 8 PAY_6                          0.037190\n",
      " 9 BILL_AMT2                      0.032966\n",
      "10 BILL_AMT3                      0.031730\n",
      "11 PAY_AMT3                       0.031232\n",
      "12 BILL_AMT4                      0.026737\n",
      "13 PAY_AMT5                       0.026567\n",
      "14 BILL_AMT5                      0.026249\n",
      "15 PAY_AMT1                       0.026133\n",
      "16 PAY_AMT4                       0.025897\n",
      "17 BILL_AMT6                      0.025620\n",
      "18 PAY_0                          0.024805\n",
      "19 DEFAULT                        0.024321\n",
      "20 PAY_AMT6                       0.023138\n",
      "21 MARRIAGE                       0.007932\n",
      "22 AGE                            0.004601\n",
      "23 EDUCATION                      0.003414\n"
     ]
    }
   ],
   "source": [
    "feat_labels = df.columns[1:]\n",
    "forest = RandomForestClassifier(n_estimators = 99, criterion='gini', max_depth = 10, max_features = 'auto', \n",
    "                                min_samples_split = 5, random_state =43)\n",
    "forest.fit(X_train, y_train)\n",
    "y_pred_forest = forest.predict(X_test)\n",
    "importances = forest.feature_importances_\n",
    "\n",
    "indices = np.argsort(importances)[::-1]\n",
    "for f in range(X_train.shape[1]):\n",
    "    print(\"%2d %-*s %f\" % (f+1, 30, feat_labels[indices[f]], importances[indices[f]]))"
   ]
  },
  {
   "cell_type": "code",
   "execution_count": 10,
   "id": "81c8a906",
   "metadata": {},
   "outputs": [
    {
     "data": {
      "image/png": "[encoded data removed]",
      "text/plain": [
       "<Figure size 432x288 with 1 Axes>"
      ]
     },
     "metadata": {},
     "output_type": "display_data"
    }
   ],
   "source": [
    "plt.title('Feature Importance (imbalance data)')\n",
    "plt.bar(range(X_train.shape[1]), importances[indices], align='center')\n",
    "plt.xticks(range(X_train.shape[1]), feat_labels, rotation=90)\n",
    "plt.xlim([-1, X_train.shape[1]])\n",
    "plt.tight_layout()\n",
    "plt.show()"
   ]
  },
  {
   "cell_type": "code",
   "execution_count": 11,
   "id": "ac655500",
   "metadata": {},
   "outputs": [
    {
     "name": "stdout",
     "output_type": "stream",
     "text": [
      "The mean for the train set score is:\n",
      "0.121\n",
      "The mean for the test set score is:\n",
      "0.114\n",
      "-----------------------------------------\n",
      "The standard deviation for the train set score is:\n",
      "0.326\n",
      "The standard deviation for the test set score is:\n",
      "0.318\n"
     ]
    }
   ],
   "source": [
    "print(\"The mean for the train set score is:\")\n",
    "print(np.round(np.mean(forest.predict(X_train)), 3))\n",
    "print(\"The mean for the test set score is:\")\n",
    "print(np.round(np.mean(y_pred_forest), 3))\n",
    "print(\"-----------------------------------------\")\n",
    "print(\"The standard deviation for the train set score is:\")\n",
    "print(np.round(np.std(forest.predict(X_train)), 3))\n",
    "print(\"The standard deviation for the test set score is:\")\n",
    "print(np.round(np.std(y_pred_forest), 3))"
   ]
  },
  {
   "cell_type": "code",
   "execution_count": 12,
   "id": "424cc185",
   "metadata": {},
   "outputs": [
    {
     "name": "stdout",
     "output_type": "stream",
     "text": [
      "                pred_class 0   pred_class 1\n",
      "actual_class 0           2224           112\n",
      "actual_class 1            433           231\n"
     ]
    }
   ],
   "source": [
    "# Confusion Matrix\n",
    "conmatrix = confusion_matrix(y_test, y_pred_forest)\n",
    "conmatrix = pd.DataFrame(conmatrix, \n",
    "              columns = ['pred_class 0 ', 'pred_class 1'], \n",
    "              index = ['actual_class 0', 'actual_class 1']\n",
    "              )\n",
    "print(conmatrix)"
   ]
  },
  {
   "cell_type": "code",
   "execution_count": 13,
   "id": "80081c63",
   "metadata": {},
   "outputs": [
    {
     "name": "stdout",
     "output_type": "stream",
     "text": [
      "                        precision    recall  f1-score   support\n",
      "\n",
      "class 0 (non-defaults)       0.84      0.95      0.89      2336\n",
      "    class 1 (defaults)       0.67      0.35      0.46       664\n",
      "\n",
      "              accuracy                           0.82      3000\n",
      "             macro avg       0.76      0.65      0.67      3000\n",
      "          weighted avg       0.80      0.82      0.80      3000\n",
      "\n"
     ]
    }
   ],
   "source": [
    "# Classification Report\n",
    "target = ['class 0 (non-defaults)','class 1 (defaults)']\n",
    "report = classification_report(y_test, y_pred_forest, target_names = target)\n",
    "print(report)"
   ]
  },
  {
   "cell_type": "code",
   "execution_count": 14,
   "id": "ad470b8f",
   "metadata": {},
   "outputs": [
    {
     "data": {
      "image/png": "[encoded data removed]",
      "text/plain": [
       "<Figure size 432x288 with 1 Axes>"
      ]
     },
     "metadata": {},
     "output_type": "display_data"
    }
   ],
   "source": [
    "# Precision-Recall curve\n",
    "pc = plot_precision_recall_curve(forest, X_test, y_test)"
   ]
  },
  {
   "cell_type": "code",
   "execution_count": 15,
   "id": "cc7e86ee",
   "metadata": {},
   "outputs": [
    {
     "data": {
      "image/png": "[encoded data removed]",
      "text/plain": [
       "<Figure size 432x288 with 1 Axes>"
      ]
     },
     "metadata": {},
     "output_type": "display_data"
    }
   ],
   "source": [
    "# ROC curve\n",
    "roc = plot_roc_curve(forest, X_test, y_test)"
   ]
  },
  {
   "cell_type": "code",
   "execution_count": 16,
   "id": "40155ab3",
   "metadata": {},
   "outputs": [
    {
     "name": "stderr",
     "output_type": "stream",
     "text": [
      "<ipython-input-16-cb03f57fa181>:6: UserWarning: FixedFormatter should only be used together with FixedLocator\n",
      "  ax.set_xticklabels([''] + labels)\n",
      "<ipython-input-16-cb03f57fa181>:7: UserWarning: FixedFormatter should only be used together with FixedLocator\n",
      "  ax.set_yticklabels([''] + labels)\n"
     ]
    },
    {
     "data": {
      "image/png": "[encoded data removed]",
      "text/plain": [
       "<Figure size 432x288 with 2 Axes>"
      ]
     },
     "metadata": {},
     "output_type": "display_data"
    }
   ],
   "source": [
    "labels = ['Class 0', 'Class 1']\n",
    "fig = plt.figure()\n",
    "ax = fig.add_subplot(111)\n",
    "cax = ax.matshow(confusion_matrix(y_test, y_pred_forest), cmap=plt.cm.Blues)\n",
    "fig.colorbar(cax)\n",
    "ax.set_xticklabels([''] + labels)\n",
    "ax.set_yticklabels([''] + labels)\n",
    "plt.xlabel('Predicted')\n",
    "plt.ylabel('Expected')\n",
    "plt.show()"
   ]
  },
  {
   "cell_type": "markdown",
   "id": "e8d46269",
   "metadata": {},
   "source": [
    "# SMOTE for Imbalancing Data"
   ]
  },
  {
   "cell_type": "code",
   "execution_count": 17,
   "id": "21c32f1f",
   "metadata": {},
   "outputs": [
    {
     "name": "stdout",
     "output_type": "stream",
     "text": [
      "Counter({0: 21028, 1: 5972})\n"
     ]
    }
   ],
   "source": [
    "# summarize class distribution\n",
    "counter = Counter(y_train)\n",
    "print(counter)"
   ]
  },
  {
   "cell_type": "code",
   "execution_count": 18,
   "id": "1628f30a",
   "metadata": {},
   "outputs": [],
   "source": [
    "# transform the dataset\n",
    "oversample = SMOTE(random_state=12)\n",
    "X_train_SMOTE, y_train_SMOTE = oversample.fit_resample(X_train, y_train)\n",
    "X_test_SMOTE, y_test_SMOTE = oversample.fit_resample(X_test, y_test)"
   ]
  },
  {
   "cell_type": "code",
   "execution_count": 19,
   "id": "26348633",
   "metadata": {},
   "outputs": [
    {
     "name": "stdout",
     "output_type": "stream",
     "text": [
      "Counter({0: 21028, 1: 21028})\n"
     ]
    }
   ],
   "source": [
    "# summarize the new class distribution\n",
    "counter_SMOTE = Counter(y_train_SMOTE)\n",
    "print(counter_SMOTE)"
   ]
  },
  {
   "cell_type": "markdown",
   "id": "0c6ad962",
   "metadata": {},
   "source": [
    "# Hyperparameter tuning for Random Forest"
   ]
  },
  {
   "cell_type": "code",
   "execution_count": 20,
   "id": "5ffb74e3",
   "metadata": {},
   "outputs": [
    {
     "data": {
      "text/plain": [
       "GridSearchCV(cv=10, estimator=RandomForestClassifier(random_state=43),\n",
       "             n_jobs=-1,\n",
       "             param_grid={'max_depth': array([ 2,  4,  6,  8, 10]),\n",
       "                         'max_features': ['auto', 'sqrt', 'log2'],\n",
       "                         'min_samples_split': [2, 3, 5],\n",
       "                         'n_estimators': array([ 1, 11, 21, 31, 41, 51, 61, 71, 81, 91])},\n",
       "             scoring='accuracy')"
      ]
     },
     "execution_count": 20,
     "metadata": {},
     "output_type": "execute_result"
    }
   ],
   "source": [
    "# Using grid search cross validation to select the best parameters\n",
    "\n",
    "param_grid = {'n_estimators': np.arange(1, 100, 10),\n",
    "            'max_depth': np.arange(2, 12, 2),\n",
    "            'min_samples_split': [2, 3, 5],\n",
    "            'max_features': [\"auto\", \"sqrt\", \"log2\"]}\n",
    "rf = RandomForestClassifier(random_state = 43)\n",
    "rf_cv = GridSearchCV(rf, param_grid, scoring = 'accuracy', cv = 10, n_jobs = -1)\n",
    "rf_cv.fit(X_train_SMOTE, y_train_SMOTE)"
   ]
  },
  {
   "cell_type": "code",
   "execution_count": 21,
   "id": "74e70775",
   "metadata": {},
   "outputs": [
    {
     "name": "stdout",
     "output_type": "stream",
     "text": [
      "Tuned Decision Tree Parameters: {'max_depth': 10, 'max_features': 'auto', 'min_samples_split': 5, 'n_estimators': 91}\n",
      "Best training accuracy score using cv is 0.782\n"
     ]
    }
   ],
   "source": [
    "print(\"Tuned Decision Tree Parameters: {}\".format(rf_cv.best_params_))\n",
    "print(\"Best training accuracy score using cv is {}\".format(np.round(rf_cv.best_score_, 3)))"
   ]
  },
  {
   "cell_type": "code",
   "execution_count": 22,
   "id": "a6615f7f",
   "metadata": {},
   "outputs": [
    {
     "name": "stdout",
     "output_type": "stream",
     "text": [
      "The accuracy score for test set is  0.779\n"
     ]
    }
   ],
   "source": [
    "rf = RandomForestClassifier(n_estimators = 91, max_depth = 10, max_features = 'auto', \n",
    "                            min_samples_split = 5, random_state = 43)\n",
    "rf.fit(X_train_SMOTE, y_train_SMOTE)\n",
    "y_pred_rf = rf.predict(X_test_SMOTE)\n",
    "score = np.round(accuracy_score(y_test_SMOTE, y_pred_rf), 3)\n",
    "print(\"The accuracy score for test set is \", score)"
   ]
  },
  {
   "cell_type": "code",
   "execution_count": 23,
   "id": "7b370e7e",
   "metadata": {},
   "outputs": [
    {
     "name": "stdout",
     "output_type": "stream",
     "text": [
      " 1 PAY_2                          0.158677\n",
      " 2 PAY_3                          0.136264\n",
      " 3 PAY_5                          0.063996\n",
      " 4 AGE                            0.061818\n",
      " 5 PAY_4                          0.060303\n",
      " 6 EDUCATION                      0.057185\n",
      " 7 PAY_AMT2                       0.044939\n",
      " 8 PAY_6                          0.039264\n",
      " 9 PAY_AMT3                       0.038929\n",
      "10 BILL_AMT2                      0.034518\n",
      "11 BILL_AMT1                      0.033865\n",
      "12 SEX                            0.031650\n",
      "13 PAY_AMT5                       0.030034\n",
      "14 MARRIAGE                       0.029400\n",
      "15 PAY_AMT4                       0.026954\n",
      "16 BILL_AMT3                      0.024466\n",
      "17 BILL_AMT4                      0.021200\n",
      "18 DEFAULT                        0.020028\n",
      "19 BILL_AMT5                      0.019250\n",
      "20 BILL_AMT6                      0.018077\n",
      "21 PAY_AMT6                       0.017669\n",
      "22 PAY_AMT1                       0.016343\n",
      "23 PAY_0                          0.015170\n"
     ]
    }
   ],
   "source": [
    "feat_labels = df.columns[1:]\n",
    "\n",
    "importances_rf = rf.feature_importances_\n",
    "\n",
    "indices = np.argsort(importances_rf)[::-1]\n",
    "for f in range(X_train_SMOTE.shape[1]):\n",
    "    print(\"%2d %-*s %f\" % (f+1, 30, feat_labels[indices[f]], importances_rf[indices[f]]))"
   ]
  },
  {
   "cell_type": "code",
   "execution_count": 24,
   "id": "dc8c859d",
   "metadata": {},
   "outputs": [
    {
     "data": {
      "image/png": "[encoded data removed]",
      "text/plain": [
       "<Figure size 432x288 with 1 Axes>"
      ]
     },
     "metadata": {},
     "output_type": "display_data"
    }
   ],
   "source": [
    "plt.title('Feature Importance (after SMOTE)')\n",
    "plt.bar(range(X_train_SMOTE.shape[1]), importances_rf[indices], align='center')\n",
    "plt.xticks(range(X_train_SMOTE.shape[1]), feat_labels, rotation=90)\n",
    "plt.xlim([-1, X_train_SMOTE.shape[1]])\n",
    "plt.tight_layout()\n",
    "plt.show()"
   ]
  },
  {
   "cell_type": "code",
   "execution_count": 25,
   "id": "b51053d6",
   "metadata": {},
   "outputs": [
    {
     "name": "stdout",
     "output_type": "stream",
     "text": [
      "                pred_class 0   pred_class 1\n",
      "actual_class 0           1956           380\n",
      "actual_class 1            652          1684\n"
     ]
    }
   ],
   "source": [
    "# Confusion Matrix\n",
    "conmatrix = confusion_matrix(y_test_SMOTE, y_pred_rf)\n",
    "conmatrix = pd.DataFrame(conmatrix, \n",
    "              columns = ['pred_class 0 ', 'pred_class 1'], \n",
    "              index = ['actual_class 0', 'actual_class 1']\n",
    "              )\n",
    "print(conmatrix)"
   ]
  },
  {
   "cell_type": "code",
   "execution_count": 26,
   "id": "54d10711",
   "metadata": {},
   "outputs": [
    {
     "name": "stdout",
     "output_type": "stream",
     "text": [
      "                        precision    recall  f1-score   support\n",
      "\n",
      "class 0 (non-defaults)       0.75      0.84      0.79      2336\n",
      "    class 1 (defaults)       0.82      0.72      0.77      2336\n",
      "\n",
      "              accuracy                           0.78      4672\n",
      "             macro avg       0.78      0.78      0.78      4672\n",
      "          weighted avg       0.78      0.78      0.78      4672\n",
      "\n"
     ]
    }
   ],
   "source": [
    "# Classification Report\n",
    "target = ['class 0 (non-defaults)','class 1 (defaults)']\n",
    "report = classification_report(y_test_SMOTE, y_pred_rf, target_names = target)\n",
    "print(report)"
   ]
  },
  {
   "cell_type": "code",
   "execution_count": 27,
   "id": "d7600dc7",
   "metadata": {},
   "outputs": [
    {
     "data": {
      "image/png": "[encoded data removed]",
      "text/plain": [
       "<Figure size 432x288 with 1 Axes>"
      ]
     },
     "metadata": {},
     "output_type": "display_data"
    }
   ],
   "source": [
    "# Precision-Recall curve\n",
    "pc = plot_precision_recall_curve(rf, X_test_SMOTE, y_test_SMOTE)"
   ]
  },
  {
   "cell_type": "code",
   "execution_count": 28,
   "id": "59fa2bd1",
   "metadata": {},
   "outputs": [
    {
     "data": {
      "image/png": "[encoded data removed]",
      "text/plain": [
       "<Figure size 432x288 with 1 Axes>"
      ]
     },
     "metadata": {},
     "output_type": "display_data"
    }
   ],
   "source": [
    "# ROC curve\n",
    "roc = plot_roc_curve(rf, X_test_SMOTE, y_test_SMOTE)"
   ]
  },
  {
   "cell_type": "code",
   "execution_count": 29,
   "id": "b33ca377",
   "metadata": {},
   "outputs": [
    {
     "name": "stderr",
     "output_type": "stream",
     "text": [
      "<ipython-input-29-d988acbd342c>:6: UserWarning: FixedFormatter should only be used together with FixedLocator\n",
      "  ax.set_xticklabels([''] + labels)\n",
      "<ipython-input-29-d988acbd342c>:7: UserWarning: FixedFormatter should only be used together with FixedLocator\n",
      "  ax.set_yticklabels([''] + labels)\n"
     ]
    },
    {
     "data": {
      "image/png": "[encoded data removed]",
      "text/plain": [
       "<Figure size 432x288 with 2 Axes>"
      ]
     },
     "metadata": {},
     "output_type": "display_data"
    }
   ],
   "source": [
    "labels = ['Class 0', 'Class 1']\n",
    "fig = plt.figure()\n",
    "ax = fig.add_subplot(111)\n",
    "cax = ax.matshow(confusion_matrix(y_test_SMOTE, y_pred_rf), cmap=plt.cm.Blues)\n",
    "fig.colorbar(cax)\n",
    "ax.set_xticklabels([''] + labels)\n",
    "ax.set_yticklabels([''] + labels)\n",
    "plt.xlabel('Predicted')\n",
    "plt.ylabel('Expected')\n",
    "plt.show()"
   ]
  },
  {
   "cell_type": "code",
   "execution_count": null,
   "id": "b54f484d",
   "metadata": {},
   "outputs": [],
   "source": []
  },
  {
   "cell_type": "code",
   "execution_count": 30,
   "id": "8227a400",
   "metadata": {},
   "outputs": [
    {
     "name": "stdout",
     "output_type": "stream",
     "text": [
      "My name is Hui-Erh Chai_Angela\n",
      "My NetID is: 674939884\n",
      "I hereby certify that I have read the University policy on Academic Integrity and that I am not in violation.\n"
     ]
    }
   ],
   "source": [
    "print(\"My name is Hui-Erh Chai_Angela\")\n",
    "print(\"My NetID is: 674939884\")\n",
    "print(\"I hereby certify that I have read the University policy on Academic Integrity and that I am not in violation.\")"
   ]
  },
  {
   "cell_type": "code",
   "execution_count": null,
   "id": "39822234",
   "metadata": {},
   "outputs": [],
   "source": []
  },
  {
   "cell_type": "code",
   "execution_count": null,
   "id": "4b308df5",
   "metadata": {},
   "outputs": [],
   "source": []
  },
  {
   "cell_type": "code",
   "execution_count": null,
   "id": "bbdba077",
   "metadata": {},
   "outputs": [],
   "source": []
  }
 ],
 "metadata": {
  "kernelspec": {
   "display_name": "Python 3",
   "language": "python",
   "name": "python3"
  },
  "language_info": {
   "codemirror_mode": {
    "name": "ipython",
    "version": 3
   },
   "file_extension": ".py",
   "mimetype": "text/x-python",
   "name": "python",
   "nbconvert_exporter": "python",
   "pygments_lexer": "ipython3",
   "version": "3.8.8"
  }
 },
 "nbformat": 4,
 "nbformat_minor": 5
}
